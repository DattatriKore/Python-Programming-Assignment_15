{
 "cells": [
  {
   "cell_type": "code",
   "execution_count": 5,
   "id": "9449e404",
   "metadata": {},
   "outputs": [
    {
     "name": "stdout",
     "output_type": "stream",
     "text": [
      "Enter n: 100\n",
      "0,35,70\n"
     ]
    }
   ],
   "source": [
    "'''\n",
    "Q.[1] : Please write a program using generator to print the numbers which can be divisible by 5 and 7 between 0 and n in \n",
    "\n",
    "        comma separated form while n is input by console.\n",
    "        \n",
    "        Example:\n",
    "        \n",
    "        If the following n is given as input to the program:\n",
    "        \n",
    "        100\n",
    "        \n",
    "        Then, the output of the program should be:\n",
    "        \n",
    "        0,35,70\n",
    "\n",
    "'''\n",
    "\n",
    "def put_number(n):\n",
    "    i = 0\n",
    "    while i < n:\n",
    "        j = i\n",
    "        i = i + 1 \n",
    "        if j % 5 == 0 and j % 7 == 0:\n",
    "            yield j\n",
    "\n",
    "n = int(input(\"Enter n: \"))\n",
    "num = []\n",
    "for i in put_number(n):\n",
    "    num.append(str(i))\n",
    "print(\",\".join(num))"
   ]
  },
  {
   "cell_type": "code",
   "execution_count": 9,
   "id": "23e80b19",
   "metadata": {},
   "outputs": [
    {
     "name": "stdout",
     "output_type": "stream",
     "text": [
      "Enter number: 10\n",
      "0,2,4,6,8,10\n"
     ]
    }
   ],
   "source": [
    "'''\n",
    "Q.[2] :Please write a program using generator to print the even numbers between 0 and n in comma separated form while\n",
    "\n",
    "       n is input by console.\n",
    "       \n",
    "       Example:\n",
    "       \n",
    "       If the following n is given as input to the program:\n",
    "       \n",
    "       10\n",
    "       \n",
    "       Then, the output of the program should be:\n",
    "       \n",
    "       0,2,4,6,8,10 \n",
    "\n",
    "'''\n",
    "\n",
    "def even_number(n):\n",
    "    i = 0\n",
    "    while i < n :\n",
    "        j = i\n",
    "        i = i + 1\n",
    "        if j % 2 == 0 :\n",
    "            yield j\n",
    "            \n",
    "n = int(input(\"Enter number: \"))\n",
    "num = []\n",
    "for i in even_number(n+1):\n",
    "    num.append(str(i))\n",
    "print(\",\".join(num))"
   ]
  },
  {
   "cell_type": "code",
   "execution_count": 15,
   "id": "702cfa45",
   "metadata": {},
   "outputs": [
    {
     "name": "stdout",
     "output_type": "stream",
     "text": [
      "Enter a number: 7\n",
      "0,1,1,2,3,5,8,13\n"
     ]
    }
   ],
   "source": [
    "'''\n",
    "Q.[3] : The Fibonacci Sequence is computed based on the following formula:\n",
    "\n",
    "        f(n)=0 if n=0\n",
    "        \n",
    "        f(n)=1 if n=1\n",
    "        \n",
    "        f(n)=f(n-1)+f(n-2) if n=1\n",
    "        \n",
    "        Please write a program using list comprehension to print the Fibonacci Sequence in comma\n",
    "        \n",
    "        separated form with a given n input by console.\n",
    "        \n",
    "        Example:\n",
    "        \n",
    "        If the following n is given as input to the program:\n",
    "        \n",
    "        7\n",
    "\n",
    "        Then, the output of the program should be:\n",
    "        \n",
    "        0,1,1,2,3,5,8,13\n",
    "\n",
    "'''\n",
    "\n",
    "def fib(n):    \n",
    "    if n == 0: \n",
    "            return 0    \n",
    "    elif n == 1: \n",
    "            return 1    \n",
    "    else: \n",
    "            return fib(n-1)+fib(n-2)\n",
    "n=int(input('Enter a number: ')) \n",
    "values = [str(fib(x)) for x in range(0, n+1)] \n",
    "print(\",\".join(values))"
   ]
  },
  {
   "cell_type": "code",
   "execution_count": 16,
   "id": "ffc43dcf",
   "metadata": {},
   "outputs": [
    {
     "name": "stdout",
     "output_type": "stream",
     "text": [
      "Enter the email address: john@google.com\n",
      "User Name:  john\n",
      "User Company:  google\n"
     ]
    }
   ],
   "source": [
    "'''\n",
    "Q.[4] : Assuming that we have some email addresses in the \"username@companyname.com\" format,please write program to print\n",
    "\n",
    "        the user name of a given email address. Both user names and company names are composed of letters only.\n",
    "        \n",
    "        Example:\n",
    "        \n",
    "        If the following email address is given as input to the program:\n",
    "        \n",
    "        john@google.com\n",
    "        \n",
    "        Then, the output of the program should be:\n",
    "        \n",
    "        john\n",
    "\n",
    "'''\n",
    "\n",
    "Email = input(\"Enter the email address: \").split(\"@\")\n",
    "comapny = str(Email[1]).split(\".\")\n",
    "print(\"User Name: \",Email[0])\n",
    "print(\"User Company: \",comapny[0])"
   ]
  },
  {
   "cell_type": "code",
   "execution_count": 17,
   "id": "f9ce7af4",
   "metadata": {},
   "outputs": [
    {
     "name": "stdout",
     "output_type": "stream",
     "text": [
      "100\n"
     ]
    }
   ],
   "source": [
    "'''\n",
    "Q.[5] : Define a class named Shape and its subclass Square. The Square class has an init function which takes a length as\n",
    "\n",
    "       argument. Both classes have a area function which can print the area of the shape where Shape's area is 0 by default.\n",
    "\n",
    "'''\n",
    "\n",
    "class Shape(object):\n",
    "    def __init__(self):\n",
    "        pass\n",
    "\n",
    "    def area(self):\n",
    "        return 0\n",
    "\n",
    "class Square(Shape):\n",
    "    def __init__(self, l):\n",
    "        Shape.__init__(self)\n",
    "        self.length = l\n",
    "\n",
    "    def area(self):\n",
    "        return self.length*self.length\n",
    "\n",
    "objSquare= Square(10)\n",
    "print(objSquare.area())"
   ]
  },
  {
   "cell_type": "code",
   "execution_count": null,
   "id": "229585e8",
   "metadata": {},
   "outputs": [],
   "source": []
  }
 ],
 "metadata": {
  "kernelspec": {
   "display_name": "Python 3 (ipykernel)",
   "language": "python",
   "name": "python3"
  },
  "language_info": {
   "codemirror_mode": {
    "name": "ipython",
    "version": 3
   },
   "file_extension": ".py",
   "mimetype": "text/x-python",
   "name": "python",
   "nbconvert_exporter": "python",
   "pygments_lexer": "ipython3",
   "version": "3.9.13"
  }
 },
 "nbformat": 4,
 "nbformat_minor": 5
}
